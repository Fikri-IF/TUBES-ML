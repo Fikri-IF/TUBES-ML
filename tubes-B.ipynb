{
 "cells": [
  {
   "cell_type": "code",
   "execution_count": 8,
   "metadata": {},
   "outputs": [],
   "source": [
    "import math"
   ]
  },
  {
   "cell_type": "code",
   "execution_count": 9,
   "metadata": {},
   "outputs": [],
   "source": [
    "def difLinear(net):\n",
    "    return 1\n",
    "\n",
    "def difSigmoid(net):\n",
    "    res = []\n",
    "    for i in net:\n",
    "        res.append((1/(1+math.exp(-i))) * (1 - (1/(1+math.exp(-i)))))\n",
    "\n",
    "def difReLU(net):\n",
    "    res = []\n",
    "    for i in net:\n",
    "        if (i < 0):\n",
    "            res.append(0)\n",
    "        else:\n",
    "            res.append(1)"
   ]
  }
 ],
 "metadata": {
  "kernelspec": {
   "display_name": "Python 3",
   "language": "python",
   "name": "python3"
  },
  "language_info": {
   "codemirror_mode": {
    "name": "ipython",
    "version": 3
   },
   "file_extension": ".py",
   "mimetype": "text/x-python",
   "name": "python",
   "nbconvert_exporter": "python",
   "pygments_lexer": "ipython3",
   "version": "3.9.6"
  },
  "orig_nbformat": 4
 },
 "nbformat": 4,
 "nbformat_minor": 2
}
