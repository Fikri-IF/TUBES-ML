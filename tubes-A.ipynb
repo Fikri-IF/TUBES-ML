{
 "cells": [
  {
   "cell_type": "code",
   "execution_count": 1,
   "id": "fce30b24",
   "metadata": {},
   "outputs": [],
   "source": [
    "import json\n",
    "import math\n",
    "import networkx as nx\n",
    "import matplotlib.pyplot as plt"
   ]
  },
  {
   "cell_type": "code",
   "execution_count": 2,
   "id": "2e49a71a",
   "metadata": {},
   "outputs": [],
   "source": [
    "f = open('FFNNMODEL.json')\n",
    "data = json.load(f)"
   ]
  },
  {
   "cell_type": "code",
   "execution_count": 3,
   "id": "33c77651",
   "metadata": {},
   "outputs": [],
   "source": [
    "inputLayer = data[\"input\"]\n",
    "hiddenLayer = data[\"hidden\"]\n",
    "outputLayer = data[\"output\"]"
   ]
  },
  {
   "cell_type": "code",
   "execution_count": 4,
   "id": "d3d47e53",
   "metadata": {},
   "outputs": [],
   "source": [
    "def net(datas,neurons):\n",
    "    net = []\n",
    "    for neuron in neurons:\n",
    "        result=0\n",
    "        for i in range (len(datas)):\n",
    "            result += datas[i] * neuron[i+1]\n",
    "        result += neuron[0]\n",
    "        net.append(result)\n",
    "    return net\n",
    "\n",
    "def sigmoid(net):\n",
    "    h = []\n",
    "    for i in net:\n",
    "        result = 1/(1+math.exp(-i))\n",
    "        h.append(result)\n",
    "    return h\n",
    "\n",
    "def activationFunction(functionType,net):\n",
    "    if functionType == \"sigmoid\":\n",
    "        result = []\n",
    "        sigmoid_result = sigmoid(net)\n",
    "        for res in sigmoid_result:\n",
    "            if res > 0.5:\n",
    "                result.append(1) # Kelas Positif\n",
    "            else:\n",
    "                result.append(0) # Kelas Negatif\n",
    "\n",
    "        return result\n",
    "\n",
    "    "
   ]
  },
  {
   "cell_type": "code",
   "execution_count": 61,
   "id": "674fadd8",
   "metadata": {},
   "outputs": [
    {
     "name": "stdout",
     "output_type": "stream",
     "text": [
      "[[[-10, 20, 20], [30, -20, -20]], [[-30, 20, 20], [10, -20, -20]], [[-30, 20, 20], [30, -20, -20]]]\n"
     ]
    },
    {
     "data": {
      "image/png": "[encoded data removed]",
      "text/plain": [
       "<Figure size 432x288 with 1 Axes>"
      ]
     },
     "metadata": {},
     "output_type": "display_data"
    }
   ],
   "source": [
    "def ffnn(inputLayer,hiddenLayer,outputLayer):\n",
    "    il_pos_y = 0\n",
    "    \n",
    "    hiddenNeuron = hiddenLayer[\"neuron\"]\n",
    "    outputNeuron = outputLayer[\"neuron\"]\n",
    "    listOfNeuron = []\n",
    "    \n",
    "    for neuron in hiddenNeuron:\n",
    "        listOfNeuron.append(neuron)\n",
    "    listOfNeuron.append(outputNeuron)\n",
    "    \n",
    "    print(listOfNeuron)\n",
    "    \n",
    "    datas = inputLayer[\"data\"]\n",
    "    layer = len(hiddenNeuron) + 1\n",
    "    \n",
    "    for i in range(len(datas[0])):\n",
    "        G.add_node(\"x\"+str(i),pos=(0,il_pos_y),data= datas[0][i])\n",
    "        il_pos_y += 1\n",
    "    G.add_node(\"b0\",pos=(0,il_pos_y),data= 1)\n",
    "    \n",
    "    result = []\n",
    "    \n",
    "    for data in (datas):\n",
    "        x = ffnnLogic(data,listOfNeuron,layer,0)\n",
    "        result.append(x)\n",
    "\n",
    "    return result\n",
    "\n",
    "def ffnnLogic(data,neuron,layer,n):\n",
    "    if n==layer:\n",
    "        return data\n",
    "    else:\n",
    "        globalNet = net(data,neuron[n])\n",
    "        newData = activationFunction(\"sigmoid\",globalNet)\n",
    "        #draw layer\n",
    "        if(n<layer-1):\n",
    "            for i in range(len(newData)):\n",
    "                G.add_node(\"h\"+str(n+1)+str(i),pos=(n+1,i),data = newData[i])\n",
    "                if(n==0):\n",
    "                    for j in range(len(data)):\n",
    "                        G.add_edge(\"x\"+str(j),\"h\"+str(n+1)+str(i),weight = neuron[n][i][j+1])\n",
    "                    G.add_edge(\"b0\",\"h\"+str(n+1)+str(i),weight = neuron[n][i][0])\n",
    "                else:\n",
    "                    for j in range(len(data)):\n",
    "                        G.add_edge(\"h\"+str(n)+str(j),\"h\"+str(n+1)+str(i),weight = neuron[n][i][j+1])\n",
    "                    G.add_edge(\"b\"+str(n),\"h\"+str(n+1)+str(i),weight = neuron[n][i][0])\n",
    "\n",
    "\n",
    "            G.add_node(\"b\"+str(n+1),pos=(n+1,len(newData)),data = 1)\n",
    "        else:\n",
    "            for i in range(len(newData)):\n",
    "                G.add_node(\"O\"+str(i),pos=(n+1,i),data = newData[i])\n",
    "                for j in range(len(data)):\n",
    "                    G.add_edge(\"h\"+str(n)+str(j),\"O\"+str(i), weight = neuron[n][i][j+1])\n",
    "                G.add_edge(\"b\"+str(n),\"O\"+str(i), weight = neuron[n][i][0])\n",
    "\n",
    "        return ffnnLogic(newData, neuron, layer, n+1)\n",
    "\n",
    "\n",
    "G= nx.Graph()\n",
    "    \n",
    "ffnn(inputLayer,hiddenLayer,outputLayer)\n",
    "nx.draw(G,pos = nx.get_node_attributes(G,'pos'),with_labels= True ,\n",
    "         font_weight='bold', node_color='green', node_size=2000, font_size=20\n",
    "        ,font_family='sans-serif', font_color='white')\n",
    "\n",
    "nx.draw_networkx_edge_labels(G ,pos=nx.get_node_attributes(G, 'pos'),\n",
    "                              font_size=7, font_color='black', font_family='sans-serif',\n",
    "                              edge_labels = nx.get_edge_attributes(G,'weight'),\n",
    "                              label_pos = 0.6)\n",
    "\n",
    "\n",
    "pos = nx.get_node_attributes(G, 'pos')\n",
    "pos_modified = { k:[v[0],v[1]-0.4] for k,v in pos.items()}\n",
    "\n",
    "nx.draw_networkx_labels(G, pos=pos_modified, \n",
    "                        labels=nx.get_node_attributes(G, 'data'), \n",
    "                        font_size=20, font_color='black', font_family='sans-serif')\n",
    "\n",
    "\n",
    "plt.margins(0.2)\n",
    "\n",
    "\n",
    "        "
   ]
  },
  {
   "cell_type": "code",
   "execution_count": 8,
   "id": "133309ba",
   "metadata": {},
   "outputs": [
    {
     "data": {
      "image/png": "[encoded data removed]",
      "text/plain": [
       "<Figure size 432x288 with 1 Axes>"
      ]
     },
     "metadata": {},
     "output_type": "display_data"
    }
   ],
   "source": [
    "G = nx.Graph()\n",
    "\n",
    "G.add_nodes_from( [\n",
    "    (\"A\",{\"Age\":[1,2,3],\"Gender\":\"F\"}),\n",
    "    (\"B\",{\"Age\":18,\"Gender\":\"M\"}),\n",
    "    (\"C\",{\"Age\":22,\"Gender\":\"M\"}),\n",
    "    (\"D\",{\"Age\":21,\"Gender\":\"M\"}),\n",
    "    (\"E\",{\"Age\":20,\"Gender\":\"F\"})\n",
    "])\n",
    "G.add_edges_from([\n",
    "    (\"A\",\"C\",{\"weight\":1}),\n",
    "    (\"B\",\"C\",{\"weight\":0.5}),\n",
    "    (\"B\",\"D\",{\"weight\":0.6}),\n",
    "    (\"C\",\"D\",{\"weight\":0.8}),\n",
    "    (\"D\",\"E\",{\"weight\":1})\n",
    "])\n",
    "\n",
    "pos = {\n",
    "    \"A\":(0,0),\n",
    "    \"B\":(0,1),\n",
    "    \"C\":(0.5,1),\n",
    "    \"D\":(0.5,2),\n",
    "    \"E\":(1,2)\n",
    "}\n",
    "\n",
    "\n",
    "nx.draw(G,pos=pos, font_weight='bold', node_color='green', node_size=1000, font_size=20\n",
    "        ,font_family='sans-serif', font_color='white')\n",
    "\n",
    "\n",
    "nx.draw_networkx_labels(G,pos=pos,labels=nx.get_node_attributes(G,'Age'),font_size=10)\n",
    "nx.draw_networkx_edge_labels(G,pos=pos,edge_labels=nx.get_edge_attributes(G,'weight'),font_size=15)\n",
    "\n",
    "plt.show()\n",
    "\n",
    "\n",
    "\n",
    "\n",
    "\n"
   ]
  },
  {
   "cell_type": "code",
   "execution_count": null,
   "id": "7bbc83ff",
   "metadata": {},
   "outputs": [],
   "source": []
  }
 ],
 "metadata": {
  "kernelspec": {
   "display_name": "Python 3 (ipykernel)",
   "language": "python",
   "name": "python3"
  },
  "language_info": {
   "codemirror_mode": {
    "name": "ipython",
    "version": 3
   },
   "file_extension": ".py",
   "mimetype": "text/x-python",
   "name": "python",
   "nbconvert_exporter": "python",
   "pygments_lexer": "ipython3",
   "version": "3.10.2"
  }
 },
 "nbformat": 4,
 "nbformat_minor": 5
}
