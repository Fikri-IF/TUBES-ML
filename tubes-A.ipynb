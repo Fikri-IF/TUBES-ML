{
 "cells": [
  {
   "cell_type": "code",
   "execution_count": null,
   "id": "fce30b24",
   "metadata": {},
   "outputs": [],
   "source": [
    "import json\n",
    "import math"
   ]
  },
  {
   "cell_type": "code",
   "execution_count": 124,
   "id": "2e49a71a",
   "metadata": {},
   "outputs": [],
   "source": [
    "f = open('FFNNMODEL.json')\n",
    "data = json.load(f)"
   ]
  },
  {
   "cell_type": "code",
   "execution_count": 125,
   "id": "33c77651",
   "metadata": {},
   "outputs": [],
   "source": [
    "inputLayer = data[\"input\"]\n",
    "hiddenLayer = data[\"hidden\"]\n",
    "outputLayer = data[\"output\"]"
   ]
  },
  {
   "cell_type": "code",
   "execution_count": 126,
   "id": "d3d47e53",
   "metadata": {},
   "outputs": [],
   "source": [
    "def net(datas,neurons):\n",
    "    net = []\n",
    "    for neuron in neurons:\n",
    "        result=0\n",
    "        for i in range (len(datas)):\n",
    "            result += datas[i] * neuron[i+1]\n",
    "        result += neuron[0]\n",
    "        net.append(result)\n",
    "    return net\n",
    "    "
   ]
  },
  {
   "cell_type": "code",
   "execution_count": 169,
   "id": "674fadd8",
   "metadata": {},
   "outputs": [],
   "source": [
    "def sigmoid(net):\n",
    "    h = []\n",
    "    for i in net:\n",
    "        result = 1/(1+math.exp(-i))\n",
    "        h.append(result)\n",
    "    return h\n",
    "\n",
    "def updateData(old,new):\n",
    "    newDataLength = len(new)\n",
    "    oldDataLength = len(old)\n",
    "    for i in range(newDataLength):\n",
    "        old[i] = new[i]\n",
    "    \n",
    "    for i in range(abs(newDataLength-oldDataLength)):\n",
    "        old.pop(-1)\n",
    "\n",
    "def ffnn(inputLayer,hiddenLayer,outputLayer):\n",
    "    \n",
    "    hiddenNeuron = hiddenLayer[\"neuron\"]\n",
    "    outputNeuron = outputLayer[\"neuron\"]\n",
    "    listOfNeuron = []\n",
    "    \n",
    "    for neuron in hiddenNeuron:\n",
    "        listOfNeuron.append(neuron)\n",
    "    listOfNeuron.append(outputNeuron)\n",
    "    \n",
    "    print(listOfNeuron)\n",
    "    \n",
    "    datas = inputLayer[\"data\"]\n",
    "    layer = hiddenLayer[\"jumlah\"] + 1\n",
    "    \n",
    "    result = []\n",
    "    \n",
    "    for data in (datas):\n",
    "        x = ffnnLogic(data,listOfNeuron,layer,0)\n",
    "        print(x)\n",
    "        result.append(x)\n",
    "    return result\n",
    "\n",
    "def ffnnLogic(data,neuron,layer,n):\n",
    "    if n==layer:\n",
    "        return data\n",
    "    else:\n",
    "        globalNet = net(data,neuron[n])\n",
    "        newData = sigmoid(globalNet)\n",
    "        ffnnLogic(newData,neuron,layer,n+1)\n",
    "        return ffnnLogic(newData, neuron, layer, n+1)\n",
    "\n",
    "\n",
    "        "
   ]
  },
  {
   "cell_type": "code",
   "execution_count": 170,
   "id": "6eeeb8a1",
   "metadata": {},
   "outputs": [
    {
     "name": "stdout",
     "output_type": "stream",
     "text": [
      "[[[-10, 20, 20], [30, -20, -20]], [[-30, 20, 20]]]\n",
      "[4.543910487654591e-05]\n",
      "[[4.543910487654591e-05]]\n"
     ]
    }
   ],
   "source": [
    "print(ffnn(inputLayer,hiddenLayer,outputLayer))\n",
    "\n"
   ]
  },
  {
   "cell_type": "code",
   "execution_count": null,
   "id": "133309ba",
   "metadata": {},
   "outputs": [],
   "source": []
  }
 ],
 "metadata": {
  "kernelspec": {
   "display_name": "Python 3 (ipykernel)",
   "language": "python",
   "name": "python3"
  },
  "language_info": {
   "codemirror_mode": {
    "name": "ipython",
    "version": 3
   },
   "file_extension": ".py",
   "mimetype": "text/x-python",
   "name": "python",
   "nbconvert_exporter": "python",
   "pygments_lexer": "ipython3",
   "version": "3.9.6"
  }
 },
 "nbformat": 4,
 "nbformat_minor": 5
}
